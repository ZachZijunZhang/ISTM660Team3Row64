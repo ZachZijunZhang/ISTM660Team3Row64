{
  "nbformat": 4,
  "nbformat_minor": 0,
  "metadata": {
    "colab": {
      "provenance": [],
      "authorship_tag": "ABX9TyMN/ZhUAfANnGyhcd+mm6re",
      "include_colab_link": true
    },
    "kernelspec": {
      "name": "python3",
      "display_name": "Python 3"
    },
    "language_info": {
      "name": "python"
    }
  },
  "cells": [
    {
      "cell_type": "markdown",
      "metadata": {
        "id": "view-in-github",
        "colab_type": "text"
      },
      "source": [
        "<a href=\"https://colab.research.google.com/github/ZachZijunZhang/ISTM660Team3Row64/blob/main/Team3Row64Code.ipynb\" target=\"_parent\"><img src=\"https://colab.research.google.com/assets/colab-badge.svg\" alt=\"Open In Colab\"/></a>"
      ]
    },
    {
      "cell_type": "code",
      "execution_count": null,
      "metadata": {
        "id": "9S7agD6hlm5m"
      },
      "outputs": [],
      "source": [
        "import matplotlib\n",
        "import matplotlib.colors as cl\n",
        "import matplotlib.pyplot as plt\n",
        "import numpy as np\n",
        "import pandas as pd\n",
        "import row64\n",
        "\n",
        "def GradientBars(inDf, inValueI, inNameI):\n",
        "\tcList = ['#479DDD', '#83B3DF']\n",
        "\tvalues = inDf[inDf.columns[inValueI]]\n",
        "\tnames = inDf[inDf.columns[inNameI]]\n",
        "\tplt.rc('xtick', labelsize=8)\n",
        "\tplt.rc('ytick', labelsize=7)\n",
        "\tx_pos = np.arange(len(names))\n",
        "\tplt.xticks(x_pos, names,horizontalalignment='right',rotation=45)\n",
        "\tcRGB = [cl.to_rgb(col) for col in cList]\n",
        "\tbars = plt.bar(x_pos, values, color=cList[0])\n",
        "\tcmap = cl.LinearSegmentedColormap.from_list(\"\", cRGB)\n",
        "\tax = bars[0].axes\n",
        "\tlim = ax.get_xlim()+ax.get_ylim()\n",
        "\tfor bar in bars:\n",
        "\t\tbar.set_facecolor(\"none\")\n",
        "\t\tx,y = bar.get_xy()\n",
        "\t\tw, h = bar.get_width(), bar.get_height()\n",
        "\t\tgrad = np.atleast_2d(np.linspace(0,1*w/max(values),256))\n",
        "\t\tax.imshow(grad, extent=[x,x+w,y,y+h], aspect=\"auto\", zorder=0, cmap=cmap)\n",
        "\tax.axis(lim)\n",
        "\tax.get_yaxis().set_major_formatter(matplotlib.ticker.FuncFormatter(lambda x, p: format(int(x), ',')))\n",
        "\n",
        "def GroupSum(idf, mergeColI):\n",
        "\tmName =df.columns[mergeColI]\n",
        "\tidf = idf.groupby([mName],as_index=False).sum()\n",
        "\treturn idf\n",
        "\n",
        "#IMPORT(\"C:\\Users\\zzhan131\\Desktop\\Adidas US Sales Datasets.csv\")\n",
        "dfIn = row64.get_dataframe(\"Dataframe3\")\n",
        "df=dfIn.copy(deep=True)\n",
        "df=GroupSum(df,0)\n",
        "GradientBars(df,4,0)\n"
      ]
    },
    {
      "cell_type": "code",
      "source": [
        "import matplotlib\n",
        "import matplotlib.colors as cl\n",
        "import matplotlib.pyplot as plt\n",
        "import numpy as np\n",
        "import pandas as pd\n",
        "import row64\n",
        "\n",
        "def GradientBars(inDf, inValueI, inNameI):\n",
        "\tcList = ['#479DDD', '#83B3DF']\n",
        "\tvalues = inDf[inDf.columns[inValueI]]\n",
        "\tnames = inDf[inDf.columns[inNameI]]\n",
        "\tplt.rc('xtick', labelsize=8)\n",
        "\tplt.rc('ytick', labelsize=7)\n",
        "\tx_pos = np.arange(len(names))\n",
        "\tplt.xticks(x_pos, names,horizontalalignment='right',rotation=45)\n",
        "\tcRGB = [cl.to_rgb(col) for col in cList]\n",
        "\tbars = plt.bar(x_pos, values, color=cList[0])\n",
        "\tcmap = cl.LinearSegmentedColormap.from_list(\"\", cRGB)\n",
        "\tax = bars[0].axes\n",
        "\tlim = ax.get_xlim()+ax.get_ylim()\n",
        "\tfor bar in bars:\n",
        "\t\tbar.set_facecolor(\"none\")\n",
        "\t\tx,y = bar.get_xy()\n",
        "\t\tw, h = bar.get_width(), bar.get_height()\n",
        "\t\tgrad = np.atleast_2d(np.linspace(0,1*w/max(values),256))\n",
        "\t\tax.imshow(grad, extent=[x,x+w,y,y+h], aspect=\"auto\", zorder=0, cmap=cmap)\n",
        "\tax.axis(lim)\n",
        "\tax.get_yaxis().set_major_formatter(matplotlib.ticker.FuncFormatter(lambda x, p: format(int(x), ',')))\n",
        "\n",
        "def GroupSum(idf, mergeColI):\n",
        "\tmName =df.columns[mergeColI]\n",
        "\tidf = idf.groupby([mName],as_index=False).sum()\n",
        "\treturn idf\n",
        "\n",
        "#IMPORT(\"C:\\Users\\zzhan131\\Desktop\\Adidas US Sales Datasets.csv\")\n",
        "dfIn = row64.get_dataframe(\"Dataframe3\")\n",
        "df=dfIn.copy(deep=True)\n",
        "df=GroupSum(df,0)\n",
        "GradientBars(df,3,0)\n"
      ],
      "metadata": {
        "id": "-CeEKRypluXn"
      },
      "execution_count": null,
      "outputs": []
    },
    {
      "cell_type": "code",
      "source": [
        "import matplotlib.pyplot as plt\n",
        "import numpy as np\n",
        "import pandas as pd\n",
        "import row64\n",
        "\n",
        "def BasicBar(inDf, inNameI, inValueI):\n",
        "\tvalues = inDf[inDf.columns[inValueI]]\n",
        "\tnames = inDf[inDf.columns[inNameI]]\n",
        "\ty_pos = np.arange(len(names))\n",
        "\tplt.bar(y_pos, values, color='#108AC6')\n",
        "\tplt.xticks(y_pos, names)\n",
        "\n",
        "#IMPORT(\"C:\\Users\\zhang\\Documents\\BAmaster\\ISTM660\\Adidas US Sales Datasets.xlsx - Data Sales Adidas.csv\")\n",
        "dfIn=row64.get_dataframe(\"Dataframe3\")\n",
        "df=dfIn.copy(deep=True)\n",
        "BasicBar(df,0,4)\n"
      ],
      "metadata": {
        "id": "TeCqr0eUlxSZ"
      },
      "execution_count": null,
      "outputs": []
    }
  ]
}